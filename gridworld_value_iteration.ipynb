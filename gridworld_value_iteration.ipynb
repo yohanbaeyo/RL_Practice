{
 "cells": [
  {
   "cell_type": "code",
   "execution_count": 15,
   "outputs": [],
   "source": [
    "from enum import Enum\n",
    "from typing import Final\n",
    "import random as r"
   ],
   "metadata": {
    "collapsed": false,
    "pycharm": {
     "name": "#%%\n"
    }
   }
  },
  {
   "cell_type": "code",
   "execution_count": 16,
   "outputs": [],
   "source": [
    "# 행동 정의\n",
    "class Actions(Enum):\n",
    "    U = 'U'\n",
    "    D = 'D'\n",
    "    L = 'L'\n",
    "    R = 'R'\n",
    "    DEFAULT = ' '\n",
    "\n",
    "DELTA_THRESHOLD: Final[float] = 1e-3  # 임계값\n",
    "GAMMA: Final[float] = 0.9  # 할인율\n",
    "\n",
    "Pos = tuple[int, int] # 위치 자료형"
   ],
   "metadata": {
    "collapsed": false,
    "pycharm": {
     "name": "#%%\n"
    }
   }
  },
  {
   "cell_type": "code",
   "execution_count": 17,
   "outputs": [],
   "source": [
    "class Grid:\n",
    "    # (i, j) : 현재 플레이어의 좌표\n",
    "    state: list[int, int]\n",
    "    rewards: dict[Pos, int]\n",
    "    actions: dict[Pos, list[Actions]]\n",
    "\n",
    "    # 생성자\n",
    "    def __init__(self, row_cnt, col_cnt, start_pos: Pos):\n",
    "        self.row_cnt = row_cnt\n",
    "        self.col_cnt = col_cnt\n",
    "        self.set_state(start_pos)\n",
    "\n",
    "    # 상태 공간과 행동 공간 정의\n",
    "    def set(self, rewards: dict[Pos, int], actions: dict[Pos, list[Actions]]):\n",
    "        self.rewards = rewards\n",
    "        self.actions = actions\n",
    "\n",
    "    # 종단 상태 여부 판단\n",
    "    def is_terminal(self, s: Actions):\n",
    "        # self.actions는 각 상태에서 할 수 있는 행동들을 dict화해둔 것 -> 이에 없다면 판을 벗어난 것 or 갇힌 것\n",
    "        return s not in self.actions\n",
    "\n",
    "    # 결정된 행동을 바탕으로 플레이어를 움직이는 함수\n",
    "    def move(self, action: Actions) -> int:\n",
    "        # 유효한 행동이라면, 그 행동대로 움직이게\n",
    "        if action in self.actions[self.get_state()]:\n",
    "            if action == Actions.U:\n",
    "                self.state[0] -= 1\n",
    "            elif action == Actions.D:\n",
    "                self.state[0] += 1\n",
    "            elif action == Actions.R:\n",
    "                self.state[1] += 1\n",
    "            elif action == Actions.L:\n",
    "                self.state[1] -= 1\n",
    "\n",
    "        # 움직인 후의 결과 = 보상을 리턴\n",
    "        return self.rewards.get(self.get_state(), 0)\n",
    "\n",
    "    # 가능한 모든 상태(행동 가능한 상태 + 종단 상태)의 집합 반환\n",
    "    def get_all_states(self):\n",
    "        return set(self.actions.keys()) | set(self.rewards.keys())\n",
    "\n",
    "    # list -> tuple로의 변환 必\n",
    "    def get_state(self) -> tuple[int, int]:\n",
    "        return tuple(self.state)\n",
    "\n",
    "    # tuple -> list로의 변환 必\n",
    "    def set_state(self, new_state):\n",
    "        self.state = list(new_state)\n",
    "\n",
    "def standard_grid() -> Grid:\n",
    "    # grid 생성\n",
    "    grid = Grid(3, 4, (2, 0))\n",
    "\n",
    "    # 보상 및 행동 정의\n",
    "    rewards = {(0, 3): 1, (1, 3): -1}\n",
    "    actions = {\n",
    "        (0, 0): [Actions.D, Actions.R],\n",
    "        (0, 1): [Actions.L, Actions.R],\n",
    "        (0, 2): [Actions.L, Actions.D, Actions.R],\n",
    "        (1, 0): [Actions.U, Actions.D],\n",
    "        (1, 2): [Actions.U, Actions.D, Actions.R],\n",
    "        (2, 0): [Actions.U, Actions.R],\n",
    "        (2, 1): [Actions.L, Actions.R],\n",
    "        (2, 2): [Actions.L, Actions.R, Actions.U],\n",
    "        (2, 3): [Actions.L, Actions.U]\n",
    "    }\n",
    "    grid.set(rewards, actions)\n",
    "    return grid"
   ],
   "metadata": {
    "collapsed": false,
    "pycharm": {
     "name": "#%%\n"
    }
   }
  },
  {
   "cell_type": "code",
   "execution_count": 18,
   "outputs": [],
   "source": [
    "def print_values(V, grid):\n",
    "    for i in range(grid.row_cnt):\n",
    "        print(\"---------------------------------------\")\n",
    "        for j in range(grid.col_cnt):\n",
    "            value = V.get((i, j), 0)\n",
    "            if value >= 0:\n",
    "                print(\"%.2f | \" % value, end=\"\")\n",
    "            else:\n",
    "                print(\"%.2f | \" % value, end=\"\")  # -ve sign takes up an extra space\n",
    "        print(\"\")\n",
    "\n",
    "def print_policy(P, grid):\n",
    "    for i in range(grid.row_cnt):\n",
    "        print(\"---------------------------------------\")\n",
    "        for j in range(grid.col_cnt):\n",
    "            action = P.get((i, j), Actions.DEFAULT)\n",
    "            print(f\"  {action.value}  |\", end=\"\")\n",
    "        print()"
   ],
   "metadata": {
    "collapsed": false,
    "pycharm": {
     "name": "#%%\n"
    }
   }
  },
  {
   "cell_type": "code",
   "execution_count": 19,
   "outputs": [
    {
     "name": "stdout",
     "output_type": "stream",
     "text": [
      "[<Actions.U: 'U'>, <Actions.D: 'D'>, <Actions.L: 'L'>, <Actions.R: 'R'>]\n",
      "\n",
      "보상: \n",
      "---------------------------------------\n",
      "0.00 | 0.00 | 0.00 | 1.00 | \n",
      "---------------------------------------\n",
      "0.00 | 0.00 | 0.00 | -1.00 | \n",
      "---------------------------------------\n",
      "0.00 | 0.00 | 0.00 | 0.00 | \n",
      "\n",
      "초기 정책: \n",
      "---------------------------------------\n",
      "  U  |  U  |  U  |     |\n",
      "---------------------------------------\n",
      "  L  |     |  D  |     |\n",
      "---------------------------------------\n",
      "  U  |  U  |  U  |  U  |\n"
     ]
    }
   ],
   "source": [
    "if __name__ == '__main__':\n",
    "    # 격자 공간 초기화\n",
    "    grid = standard_grid()\n",
    "\n",
    "    available_actions = list(Actions)[:-1]\n",
    "    print(available_actions)\n",
    "\n",
    "\n",
    "    # 보상을 초기화\n",
    "    print(\"\\n보상: \")\n",
    "    print_values(grid.rewards, grid)\n",
    "\n",
    "    # 초기 정책은 각 상태에서 선택 가능한 행동을 무작위적으로 선택\n",
    "    policy = {}\n",
    "    for s in grid.actions.keys():\n",
    "        policy[s] = r.choice(available_actions)\n",
    "\n",
    "    # 정책 입력\n",
    "    print(\"\\n초기 정책: \")\n",
    "    print_policy(policy, grid)\n",
    "\n",
    "    # 가치 함수 V(s) 초기화\n",
    "    V = {}\n",
    "    states = grid.get_all_states()\n",
    "    for s in states:\n",
    "        if s in grid.actions:\n",
    "            # 보상을 알 수 없으므로 랜덤으로 두자\n",
    "            V[s] = r.random()\n",
    "        else:\n",
    "            # 종단 상태이므로 그냥 0으로\n",
    "            V[s] = 0"
   ],
   "metadata": {
    "collapsed": false,
    "pycharm": {
     "name": "#%%\n"
    }
   }
  },
  {
   "cell_type": "code",
   "execution_count": 20,
   "outputs": [
    {
     "name": "stdout",
     "output_type": "stream",
     "text": [
      "\n",
      "0  번째 반복\n",
      "---------------------------------------\n",
      "0.88 | 0.89 | 1.00 | 0.00 | \n",
      "---------------------------------------\n",
      "0.80 | 0.00 | 0.84 | 0.00 | \n",
      "---------------------------------------\n",
      "0.75 | 0.84 | 0.84 | 0.84 | \n",
      "\n",
      "1  번째 반복\n",
      "---------------------------------------\n",
      "0.81 | 0.90 | 1.00 | 0.00 | \n",
      "---------------------------------------\n",
      "0.73 | 0.00 | 0.90 | 0.00 | \n",
      "---------------------------------------\n",
      "0.72 | 0.75 | 0.81 | 0.75 | \n",
      "\n",
      "2  번째 반복\n",
      "---------------------------------------\n",
      "0.81 | 0.90 | 1.00 | 0.00 | \n",
      "---------------------------------------\n",
      "0.73 | 0.00 | 0.90 | 0.00 | \n",
      "---------------------------------------\n",
      "0.66 | 0.73 | 0.81 | 0.73 | \n",
      "\n",
      "3  번째 반복\n",
      "---------------------------------------\n",
      "0.81 | 0.90 | 1.00 | 0.00 | \n",
      "---------------------------------------\n",
      "0.73 | 0.00 | 0.90 | 0.00 | \n",
      "---------------------------------------\n",
      "0.66 | 0.73 | 0.81 | 0.73 | \n"
     ]
    }
   ],
   "source": [
    "    # 수렴할 때까지 반복\n",
    "    i:int = 0\n",
    "    while True:\n",
    "        maxChange = 0\n",
    "        for s in states:\n",
    "            oldValue = V[s]\n",
    "\n",
    "            # 종단 상태가 아닌 상태에 대해서만 V(s)를 계산\n",
    "            if s in policy:\n",
    "                newValue = float('-inf')\n",
    "\n",
    "                # 가능한 각 행동을 다 해본 후 최적값 및 최적의 행동을 저자\n",
    "                for a in Actions:\n",
    "                    grid.set_state(s)\n",
    "                    r = grid.move(a)\n",
    "\n",
    "                    #벨만 방정식 계산: 이동의 결과로 얻은 보상 + 추후에 얻을 보상을 할인율을 곱하여\n",
    "                    v = r + GAMMA * V[grid.get_state()]\n",
    "                    if v > newValue:\n",
    "                        newValue = v\n",
    "\n",
    "                V[s] = newValue\n",
    "                maxChange = max(maxChange, abs(oldValue - V[s]))\n",
    "\n",
    "        print(f\"\\n{i}  번째 반복\")\n",
    "        print_values(V, grid)\n",
    "        i += 1\n",
    "\n",
    "        # 임계값 이하로 변화량이 떨어지면 수렴했다고 판단\n",
    "        if maxChange < DELTA_THRESHOLD:\n",
    "            break"
   ],
   "metadata": {
    "collapsed": false,
    "pycharm": {
     "name": "#%%\n"
    }
   }
  },
  {
   "cell_type": "code",
   "execution_count": 21,
   "outputs": [
    {
     "name": "stdout",
     "output_type": "stream",
     "text": [
      "\n",
      "가치 함수: \n",
      "---------------------------------------\n",
      "0.81 | 0.90 | 1.00 | 0.00 | \n",
      "---------------------------------------\n",
      "0.73 | 0.00 | 0.90 | 0.00 | \n",
      "---------------------------------------\n",
      "0.66 | 0.73 | 0.81 | 0.73 | \n",
      "\n",
      "정책: \n",
      "---------------------------------------\n",
      "  R  |  R  |  R  |     |\n",
      "---------------------------------------\n",
      "  U  |     |  U  |     |\n",
      "---------------------------------------\n",
      "  U  |  R  |  U  |  L  |\n"
     ]
    }
   ],
   "source": [
    "\n",
    "    # 이제 보상함수를 바탕으로 최적 가치 찾는 함수 도출\n",
    "    for s in policy.keys():\n",
    "        bestAction = None\n",
    "        bestValue = float('-inf')\n",
    "\n",
    "        #가능한 모든 행동에 대해 반복\n",
    "        for a in Actions:\n",
    "            grid.set_state(s)\n",
    "            r = grid.move(a)\n",
    "            v = r + GAMMA * V[grid.get_state()]\n",
    "\n",
    "            if v > bestValue:\n",
    "                bestValue = v\n",
    "                bestAction = a\n",
    "\n",
    "        policy[s] = bestAction\n",
    "\n",
    "    print(\"\\n가치 함수: \")\n",
    "    print_values(V, grid)\n",
    "\n",
    "    print(\"\\n정책: \")\n",
    "    print_policy(policy, grid)"
   ],
   "metadata": {
    "collapsed": false,
    "pycharm": {
     "name": "#%%\n"
    }
   }
  },
  {
   "cell_type": "code",
   "execution_count": 21,
   "outputs": [],
   "source": [],
   "metadata": {
    "collapsed": false,
    "pycharm": {
     "name": "#%%\n"
    }
   }
  }
 ],
 "metadata": {
  "kernelspec": {
   "display_name": "Python 3",
   "language": "python",
   "name": "python3"
  },
  "language_info": {
   "codemirror_mode": {
    "name": "ipython",
    "version": 2
   },
   "file_extension": ".py",
   "mimetype": "text/x-python",
   "name": "python",
   "nbconvert_exporter": "python",
   "pygments_lexer": "ipython2",
   "version": "2.7.6"
  }
 },
 "nbformat": 4,
 "nbformat_minor": 0
}